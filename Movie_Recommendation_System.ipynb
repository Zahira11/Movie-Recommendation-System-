{
  "nbformat": 4,
  "nbformat_minor": 0,
  "metadata": {
    "colab": {
      "name": "Movie Recommendation System.ipynb",
      "provenance": [],
      "authorship_tag": "ABX9TyOXPdb68FoZeBqPGQGxypVB",
      "include_colab_link": true
    },
    "kernelspec": {
      "name": "python3",
      "display_name": "Python 3"
    }
  },
  "cells": [
    {
      "cell_type": "markdown",
      "metadata": {
        "id": "view-in-github",
        "colab_type": "text"
      },
      "source": [
        "<a href=\"https://colab.research.google.com/github/Zahira11/Movie-Recommendation-System-/blob/main/Movie_Recommendation_System.ipynb\" target=\"_parent\"><img src=\"https://colab.research.google.com/assets/colab-badge.svg\" alt=\"Open In Colab\"/></a>"
      ]
    },
    {
      "cell_type": "markdown",
      "metadata": {
        "id": "EXshsKY7_nxC"
      },
      "source": [
        "**[1.1 Install Libraries ]**"
      ]
    },
    {
      "cell_type": "code",
      "metadata": {
        "id": "nvfMJdCj5q-U",
        "outputId": "7ac34b12-81b4-4d2f-8d67-57355b6006a5",
        "colab": {
          "base_uri": "https://localhost:8080/"
        }
      },
      "source": [
        " !pip3 install pandas "
      ],
      "execution_count": 4,
      "outputs": [
        {
          "output_type": "stream",
          "text": [
            "Requirement already satisfied: pandas in /usr/local/lib/python3.6/dist-packages (1.1.4)\n",
            "Requirement already satisfied: pytz>=2017.2 in /usr/local/lib/python3.6/dist-packages (from pandas) (2018.9)\n",
            "Requirement already satisfied: numpy>=1.15.4 in /usr/local/lib/python3.6/dist-packages (from pandas) (1.18.5)\n",
            "Requirement already satisfied: python-dateutil>=2.7.3 in /usr/local/lib/python3.6/dist-packages (from pandas) (2.8.1)\n",
            "Requirement already satisfied: six>=1.5 in /usr/local/lib/python3.6/dist-packages (from python-dateutil>=2.7.3->pandas) (1.15.0)\n"
          ],
          "name": "stdout"
        }
      ]
    },
    {
      "cell_type": "code",
      "metadata": {
        "id": "Rv3Lwu6I7pty",
        "outputId": "9280e49b-7c4b-47f2-8c70-72da2ec3da97",
        "colab": {
          "base_uri": "https://localhost:8080/"
        }
      },
      "source": [
        "!pip3 install matplotlib "
      ],
      "execution_count": 6,
      "outputs": [
        {
          "output_type": "stream",
          "text": [
            "Requirement already satisfied: matplotlib in /usr/local/lib/python3.6/dist-packages (3.2.2)\n",
            "Requirement already satisfied: numpy>=1.11 in /usr/local/lib/python3.6/dist-packages (from matplotlib) (1.18.5)\n",
            "Requirement already satisfied: cycler>=0.10 in /usr/local/lib/python3.6/dist-packages (from matplotlib) (0.10.0)\n",
            "Requirement already satisfied: python-dateutil>=2.1 in /usr/local/lib/python3.6/dist-packages (from matplotlib) (2.8.1)\n",
            "Requirement already satisfied: pyparsing!=2.0.4,!=2.1.2,!=2.1.6,>=2.0.1 in /usr/local/lib/python3.6/dist-packages (from matplotlib) (2.4.7)\n",
            "Requirement already satisfied: kiwisolver>=1.0.1 in /usr/local/lib/python3.6/dist-packages (from matplotlib) (1.3.1)\n",
            "Requirement already satisfied: six in /usr/local/lib/python3.6/dist-packages (from cycler>=0.10->matplotlib) (1.15.0)\n"
          ],
          "name": "stdout"
        }
      ]
    },
    {
      "cell_type": "code",
      "metadata": {
        "id": "z2F30mTK7xn8",
        "outputId": "1fe4f8d2-166d-442b-ae5c-17d0a9ac803b",
        "colab": {
          "base_uri": "https://localhost:8080/"
        }
      },
      "source": [
        "!pip3 install numpy "
      ],
      "execution_count": 7,
      "outputs": [
        {
          "output_type": "stream",
          "text": [
            "Requirement already satisfied: numpy in /usr/local/lib/python3.6/dist-packages (1.18.5)\n"
          ],
          "name": "stdout"
        }
      ]
    },
    {
      "cell_type": "code",
      "metadata": {
        "id": "x19zlJXR71bi",
        "outputId": "5e1e285f-4bba-4cb1-8a7c-c40b7662ab11",
        "colab": {
          "base_uri": "https://localhost:8080/"
        }
      },
      "source": [
        "!pip3 install scikit-surprise"
      ],
      "execution_count": 8,
      "outputs": [
        {
          "output_type": "stream",
          "text": [
            "Collecting scikit-surprise\n",
            "\u001b[?25l  Downloading https://files.pythonhosted.org/packages/97/37/5d334adaf5ddd65da99fc65f6507e0e4599d092ba048f4302fe8775619e8/scikit-surprise-1.1.1.tar.gz (11.8MB)\n",
            "\u001b[K     |████████████████████████████████| 11.8MB 9.1MB/s \n",
            "\u001b[?25hRequirement already satisfied: joblib>=0.11 in /usr/local/lib/python3.6/dist-packages (from scikit-surprise) (0.17.0)\n",
            "Requirement already satisfied: numpy>=1.11.2 in /usr/local/lib/python3.6/dist-packages (from scikit-surprise) (1.18.5)\n",
            "Requirement already satisfied: scipy>=1.0.0 in /usr/local/lib/python3.6/dist-packages (from scikit-surprise) (1.4.1)\n",
            "Requirement already satisfied: six>=1.10.0 in /usr/local/lib/python3.6/dist-packages (from scikit-surprise) (1.15.0)\n",
            "Building wheels for collected packages: scikit-surprise\n",
            "  Building wheel for scikit-surprise (setup.py) ... \u001b[?25l\u001b[?25hdone\n",
            "  Created wheel for scikit-surprise: filename=scikit_surprise-1.1.1-cp36-cp36m-linux_x86_64.whl size=1670911 sha256=f5b9177714dcc3040e88a58aa642463a2f32e3226e10e18490dfc63251561260\n",
            "  Stored in directory: /root/.cache/pip/wheels/78/9c/3d/41b419c9d2aff5b6e2b4c0fc8d25c538202834058f9ed110d0\n",
            "Successfully built scikit-surprise\n",
            "Installing collected packages: scikit-surprise\n",
            "Successfully installed scikit-surprise-1.1.1\n"
          ],
          "name": "stdout"
        }
      ]
    },
    {
      "cell_type": "markdown",
      "metadata": {
        "id": "7bG7KzRB65D7"
      },
      "source": [
        "**1.2: Importing Libraries**\n",
        "First of all, we will need to import some libraries. This includes surprise which we will use to create the recommendation system."
      ]
    },
    {
      "cell_type": "code",
      "metadata": {
        "id": "uZgZ4MZj7MUU",
        "outputId": "2bbf935e-1933-4faa-d273-429e96dcdcee",
        "colab": {
          "base_uri": "https://localhost:8080/"
        }
      },
      "source": [
        "print('>> Importing Libraries')\n",
        "\n",
        "import pandas as pd\n",
        "\n",
        "from surprise import Reader, Dataset, SVD\n",
        "\n",
        "from surprise.accuracy import rmse, mae\n",
        "from surprise.model_selection import cross_validate\n",
        "\n",
        "print('>> Libraries imported.')"
      ],
      "execution_count": 9,
      "outputs": [
        {
          "output_type": "stream",
          "text": [
            ">> Importing Libraries\n",
            ">> Libraries imported.\n"
          ],
          "name": "stdout"
        }
      ]
    },
    {
      "cell_type": "markdown",
      "metadata": {
        "id": "eUtmGEb4_mXo"
      },
      "source": [
        ""
      ]
    },
    {
      "cell_type": "markdown",
      "metadata": {
        "id": "tHOT92iJ8JkE"
      },
      "source": [
        "**Task 2: Importing Data**\n",
        "\n",
        "We will use open-source dataset from GroupLens Research (movielens.org)\n"
      ]
    },
    {
      "cell_type": "markdown",
      "metadata": {
        "id": "flQBN5kG8S2t"
      },
      "source": [
        "**2.1: Importing the Data**\n",
        "\n",
        "The dataset is saved in a ratings.csv file. We will use pandas to take a look at some of the rows.\n"
      ]
    },
    {
      "cell_type": "code",
      "metadata": {
        "id": "cj4r5aEU7dHH",
        "outputId": "1a0e4f73-15e6-44b6-80e1-ffaa4a26f7bf",
        "colab": {
          "base_uri": "https://localhost:8080/",
          "height": 202
        }
      },
      "source": [
        "df =  pd.read_csv('/content/ratings.csv')\n",
        "df.head()"
      ],
      "execution_count": 16,
      "outputs": [
        {
          "output_type": "execute_result",
          "data": {
            "text/html": [
              "<div>\n",
              "<style scoped>\n",
              "    .dataframe tbody tr th:only-of-type {\n",
              "        vertical-align: middle;\n",
              "    }\n",
              "\n",
              "    .dataframe tbody tr th {\n",
              "        vertical-align: top;\n",
              "    }\n",
              "\n",
              "    .dataframe thead th {\n",
              "        text-align: right;\n",
              "    }\n",
              "</style>\n",
              "<table border=\"1\" class=\"dataframe\">\n",
              "  <thead>\n",
              "    <tr style=\"text-align: right;\">\n",
              "      <th></th>\n",
              "      <th>userId</th>\n",
              "      <th>movieId</th>\n",
              "      <th>rating</th>\n",
              "      <th>timestamp</th>\n",
              "    </tr>\n",
              "  </thead>\n",
              "  <tbody>\n",
              "    <tr>\n",
              "      <th>0</th>\n",
              "      <td>1</td>\n",
              "      <td>1</td>\n",
              "      <td>4.0</td>\n",
              "      <td>964982703</td>\n",
              "    </tr>\n",
              "    <tr>\n",
              "      <th>1</th>\n",
              "      <td>1</td>\n",
              "      <td>3</td>\n",
              "      <td>4.0</td>\n",
              "      <td>964981247</td>\n",
              "    </tr>\n",
              "    <tr>\n",
              "      <th>2</th>\n",
              "      <td>1</td>\n",
              "      <td>6</td>\n",
              "      <td>4.0</td>\n",
              "      <td>964982224</td>\n",
              "    </tr>\n",
              "    <tr>\n",
              "      <th>3</th>\n",
              "      <td>1</td>\n",
              "      <td>47</td>\n",
              "      <td>5.0</td>\n",
              "      <td>964983815</td>\n",
              "    </tr>\n",
              "    <tr>\n",
              "      <th>4</th>\n",
              "      <td>1</td>\n",
              "      <td>50</td>\n",
              "      <td>5.0</td>\n",
              "      <td>964982931</td>\n",
              "    </tr>\n",
              "  </tbody>\n",
              "</table>\n",
              "</div>"
            ],
            "text/plain": [
              "   userId  movieId  rating  timestamp\n",
              "0       1        1     4.0  964982703\n",
              "1       1        3     4.0  964981247\n",
              "2       1        6     4.0  964982224\n",
              "3       1       47     5.0  964983815\n",
              "4       1       50     5.0  964982931"
            ]
          },
          "metadata": {
            "tags": []
          },
          "execution_count": 16
        }
      ]
    },
    {
      "cell_type": "markdown",
      "metadata": {
        "id": "9iutd5WS8Zu7"
      },
      "source": [
        "**2.2 Dropping timestamp**\n",
        "\n",
        "We won't be using the timestamp when user gave the particular rating. So we will drop that column.\n"
      ]
    },
    {
      "cell_type": "code",
      "metadata": {
        "id": "dnEQHqFc8h8h",
        "outputId": "cf0b54b2-3a40-445c-cf94-fa79214b1fb1",
        "colab": {
          "base_uri": "https://localhost:8080/",
          "height": 202
        }
      },
      "source": [
        "df.drop('timestamp', axis=1, inplace=True)\n",
        "df.head()"
      ],
      "execution_count": 17,
      "outputs": [
        {
          "output_type": "execute_result",
          "data": {
            "text/html": [
              "<div>\n",
              "<style scoped>\n",
              "    .dataframe tbody tr th:only-of-type {\n",
              "        vertical-align: middle;\n",
              "    }\n",
              "\n",
              "    .dataframe tbody tr th {\n",
              "        vertical-align: top;\n",
              "    }\n",
              "\n",
              "    .dataframe thead th {\n",
              "        text-align: right;\n",
              "    }\n",
              "</style>\n",
              "<table border=\"1\" class=\"dataframe\">\n",
              "  <thead>\n",
              "    <tr style=\"text-align: right;\">\n",
              "      <th></th>\n",
              "      <th>userId</th>\n",
              "      <th>movieId</th>\n",
              "      <th>rating</th>\n",
              "    </tr>\n",
              "  </thead>\n",
              "  <tbody>\n",
              "    <tr>\n",
              "      <th>0</th>\n",
              "      <td>1</td>\n",
              "      <td>1</td>\n",
              "      <td>4.0</td>\n",
              "    </tr>\n",
              "    <tr>\n",
              "      <th>1</th>\n",
              "      <td>1</td>\n",
              "      <td>3</td>\n",
              "      <td>4.0</td>\n",
              "    </tr>\n",
              "    <tr>\n",
              "      <th>2</th>\n",
              "      <td>1</td>\n",
              "      <td>6</td>\n",
              "      <td>4.0</td>\n",
              "    </tr>\n",
              "    <tr>\n",
              "      <th>3</th>\n",
              "      <td>1</td>\n",
              "      <td>47</td>\n",
              "      <td>5.0</td>\n",
              "    </tr>\n",
              "    <tr>\n",
              "      <th>4</th>\n",
              "      <td>1</td>\n",
              "      <td>50</td>\n",
              "      <td>5.0</td>\n",
              "    </tr>\n",
              "  </tbody>\n",
              "</table>\n",
              "</div>"
            ],
            "text/plain": [
              "   userId  movieId  rating\n",
              "0       1        1     4.0\n",
              "1       1        3     4.0\n",
              "2       1        6     4.0\n",
              "3       1       47     5.0\n",
              "4       1       50     5.0"
            ]
          },
          "metadata": {
            "tags": []
          },
          "execution_count": 17
        }
      ]
    },
    {
      "cell_type": "markdown",
      "metadata": {
        "id": "_c7XiZIO8iu0"
      },
      "source": [
        "**2.3 Check for Missing Data**\n",
        "\n",
        "It's a good practice to check if the data has any missing values. In real world data, this is quite common and must be taken care of before any data pre-processing or model training.\n"
      ]
    },
    {
      "cell_type": "code",
      "metadata": {
        "id": "hTDF4iBM8kqd",
        "outputId": "e0d98100-6658-4508-d591-ec86d15152ea",
        "colab": {
          "base_uri": "https://localhost:8080/"
        }
      },
      "source": [
        "df.isna().sum()"
      ],
      "execution_count": 18,
      "outputs": [
        {
          "output_type": "execute_result",
          "data": {
            "text/plain": [
              "userId     0\n",
              "movieId    0\n",
              "rating     0\n",
              "dtype: int64"
            ]
          },
          "metadata": {
            "tags": []
          },
          "execution_count": 18
        }
      ]
    },
    {
      "cell_type": "markdown",
      "metadata": {
        "id": "WPBcjHjw8k3y"
      },
      "source": [
        "**Task 3: EDA (Exploratory data analysis)**\n",
        "\n",
        "In statistics, exploratory data analysis is an approach to analyzing data sets to summarize their main characteristics.\n"
      ]
    },
    {
      "cell_type": "markdown",
      "metadata": {
        "id": "p15VXvAw8rbB"
      },
      "source": [
        "**3.1 Number of movies/users**\n"
      ]
    },
    {
      "cell_type": "code",
      "metadata": {
        "id": "47jB2tfw8xkG",
        "outputId": "7d59d0da-a41c-4e1a-bdce-9f5862ea9546",
        "colab": {
          "base_uri": "https://localhost:8080/"
        }
      },
      "source": [
        "n_movies = df['movieId'].nunique()\n",
        "n_users = df['userId'].nunique()\n",
        "print(f'Number of Unique Movies: {n_movies}')\n",
        "print(f'Number of unique Users: {n_users}')"
      ],
      "execution_count": 20,
      "outputs": [
        {
          "output_type": "stream",
          "text": [
            "Number of Unique Movies: 9724\n",
            "Number of unique Users: 610\n"
          ],
          "name": "stdout"
        }
      ]
    },
    {
      "cell_type": "markdown",
      "metadata": {
        "id": "SD6LrhJs8wmS"
      },
      "source": [
        "**3.2 Sparsity of our data**\n",
        "\n",
        "Sparsity (%) = (No of missing values/ (Total Values))X100\n"
      ]
    },
    {
      "cell_type": "code",
      "metadata": {
        "id": "vfMP6gs889Xa",
        "outputId": "ec3532b9-9cc4-47d0-de40-3d6cf2663779",
        "colab": {
          "base_uri": "https://localhost:8080/"
        }
      },
      "source": [
        "available_rating = df['rating'].count()\n",
        "total_rating = n_movies*n_users\n",
        "missing_rating = total_rating - available_rating\n",
        "sparsity =  (missing_rating/total_rating)*100\n",
        "print(f'sparsity: {sparsity}')"
      ],
      "execution_count": 21,
      "outputs": [
        {
          "output_type": "stream",
          "text": [
            "sparsity: 98.30003169443864\n"
          ],
          "name": "stdout"
        }
      ]
    },
    {
      "cell_type": "markdown",
      "metadata": {
        "id": "Rd4XjX4E89rz"
      },
      "source": [
        "**3.3 Ratings Distribution**"
      ]
    },
    {
      "cell_type": "code",
      "metadata": {
        "id": "3ItmG4Mz9B9L",
        "outputId": "563f1b27-ba67-4060-829b-3924f8fe042a",
        "colab": {
          "base_uri": "https://localhost:8080/",
          "height": 289
        }
      },
      "source": [
        "df['rating'].value_counts().plot(kind= 'bar')"
      ],
      "execution_count": 23,
      "outputs": [
        {
          "output_type": "execute_result",
          "data": {
            "text/plain": [
              "<matplotlib.axes._subplots.AxesSubplot at 0x7f52924f1828>"
            ]
          },
          "metadata": {
            "tags": []
          },
          "execution_count": 23
        },
        {
          "output_type": "display_data",
          "data": {
            "image/png": "[encoded data removed]",
            "text/plain": [
              "<Figure size 432x288 with 1 Axes>"
            ]
          },
          "metadata": {
            "tags": [],
            "needs_background": "light"
          }
        }
      ]
    },
    {
      "cell_type": "markdown",
      "metadata": {
        "id": "8PFwvkK59CHk"
      },
      "source": [
        "**Task 4: Dimensionality Reduction**\n",
        "\n",
        "To reduce the dimensionality of the dataset, we will filter out rarely rated movies and rarely rating users\n",
        "\n",
        "**4.1 Filter movies with less than 3 ratings**\n"
      ]
    },
    {
      "cell_type": "code",
      "metadata": {
        "id": "FQUxB43i9PwY"
      },
      "source": [
        "filter_movies = df['movieId'].value_counts()>3\n",
        "filter_movies = filter_movies[filter_movies].index.tolist()"
      ],
      "execution_count": 24,
      "outputs": []
    },
    {
      "cell_type": "markdown",
      "metadata": {
        "id": "2y7nqafg9P-_"
      },
      "source": [
        "**4.2 Filter users with less than 3 movies rated**\n"
      ]
    },
    {
      "cell_type": "code",
      "metadata": {
        "id": "ZUWMxDNd9SDM"
      },
      "source": [
        "filter_users = df['userId'].value_counts()>3\n",
        "filter_users = filter_users[filter_users].index.tolist()"
      ],
      "execution_count": 26,
      "outputs": []
    },
    {
      "cell_type": "markdown",
      "metadata": {
        "id": "OobkzqkP9Swt"
      },
      "source": [
        "**4.3 Remove rarely rated movies and rarely rating users**\n"
      ]
    },
    {
      "cell_type": "code",
      "metadata": {
        "id": "scHQPIlZ9XZt",
        "outputId": "6a4193d6-1930-4417-f9ed-71f6f9b22094",
        "colab": {
          "base_uri": "https://localhost:8080/"
        }
      },
      "source": [
        "print(f'Original Shape of dataset: {df.shape}')\n",
        "df = df[(df['movieId'].isin(filter_movies)) & (df['userId'].isin(filter_users))]\n",
        "print(f'New shape of dataset: {df.shape}')"
      ],
      "execution_count": 29,
      "outputs": [
        {
          "output_type": "stream",
          "text": [
            "Original Shape of dataset: (100836, 3)\n",
            "New shape of dataset: (92394, 3)\n"
          ],
          "name": "stdout"
        }
      ]
    },
    {
      "cell_type": "markdown",
      "metadata": {
        "id": "rIV8Ns4d9Xis"
      },
      "source": [
        "**Task 5: Create Training and Test Sets**\n"
      ]
    },
    {
      "cell_type": "markdown",
      "metadata": {
        "id": "Smc9Bht19oNz"
      },
      "source": [
        "**5.1 Columns used for training**"
      ]
    },
    {
      "cell_type": "code",
      "metadata": {
        "id": "s5d4IpX99vFO"
      },
      "source": [
        "cols = ['userId', 'movieId', 'rating']"
      ],
      "execution_count": 34,
      "outputs": []
    },
    {
      "cell_type": "markdown",
      "metadata": {
        "id": "OUs2bB-x9vQM"
      },
      "source": [
        "**5.2 Create surprise dataset**\n"
      ]
    },
    {
      "cell_type": "code",
      "metadata": {
        "id": "fYsbjiAL97Jh"
      },
      "source": [
        "reader = Reader(rating_scale=(0.5, 5))\n",
        "data = Dataset.load_from_df(df[cols], reader)"
      ],
      "execution_count": 36,
      "outputs": []
    },
    {
      "cell_type": "markdown",
      "metadata": {
        "id": "Gi4t3AB497SO"
      },
      "source": [
        "**5.3 Create Train-set and Prediction-set**"
      ]
    },
    {
      "cell_type": "code",
      "metadata": {
        "id": "Uj0EzleU9_Ld"
      },
      "source": [
        "trainset = data.build_full_trainset()\n",
        "antiset = trainset.build_anti_testset()"
      ],
      "execution_count": 37,
      "outputs": []
    },
    {
      "cell_type": "markdown",
      "metadata": {
        "id": "HogJOZ9X9_fK"
      },
      "source": [
        "**Task 6: Creating and training the model**\n"
      ]
    },
    {
      "cell_type": "markdown",
      "metadata": {
        "id": "jRXjj1B_-EiA"
      },
      "source": [
        "**6.1 Creating the model**\n",
        "\n",
        "SVD (Singular Value Decomposition)\n",
        "\n",
        "Interaction Matrix = A X B X C"
      ]
    },
    {
      "cell_type": "code",
      "metadata": {
        "id": "Qn-jdHW1-Nu2"
      },
      "source": [
        "algo = SVD(n_epochs=25, verbose=True)"
      ],
      "execution_count": 38,
      "outputs": []
    },
    {
      "cell_type": "markdown",
      "metadata": {
        "id": "I-ZvHMV--N39"
      },
      "source": [
        "**6.2 Training the model**\n",
        "\n",
        "\n",
        "**Mean Absolute Error (MAE)**: MAE measures the average magnitude of the errors in a set of predictions, without considering their direction.\n",
        "\n",
        "\n",
        "**Root mean squared error (RMSE)**: RMSE is the square root of the average of squared differences between prediction and actual observation.\n"
      ]
    },
    {
      "cell_type": "code",
      "metadata": {
        "id": "gZEBx_fd-q0v",
        "outputId": "10ba5200-8ab0-4f9d-fe62-3f55ab3c7c8d",
        "colab": {
          "base_uri": "https://localhost:8080/"
        }
      },
      "source": [
        "cross_validate(algo, data, measures=['RMSE','MAE'], verbose=True)\n",
        "print(\">>Train the Model\")"
      ],
      "execution_count": 39,
      "outputs": [
        {
          "output_type": "stream",
          "text": [
            "Processing epoch 0\n",
            "Processing epoch 1\n",
            "Processing epoch 2\n",
            "Processing epoch 3\n",
            "Processing epoch 4\n",
            "Processing epoch 5\n",
            "Processing epoch 6\n",
            "Processing epoch 7\n",
            "Processing epoch 8\n",
            "Processing epoch 9\n",
            "Processing epoch 10\n",
            "Processing epoch 11\n",
            "Processing epoch 12\n",
            "Processing epoch 13\n",
            "Processing epoch 14\n",
            "Processing epoch 15\n",
            "Processing epoch 16\n",
            "Processing epoch 17\n",
            "Processing epoch 18\n",
            "Processing epoch 19\n",
            "Processing epoch 20\n",
            "Processing epoch 21\n",
            "Processing epoch 22\n",
            "Processing epoch 23\n",
            "Processing epoch 24\n",
            "Processing epoch 0\n",
            "Processing epoch 1\n",
            "Processing epoch 2\n",
            "Processing epoch 3\n",
            "Processing epoch 4\n",
            "Processing epoch 5\n",
            "Processing epoch 6\n",
            "Processing epoch 7\n",
            "Processing epoch 8\n",
            "Processing epoch 9\n",
            "Processing epoch 10\n",
            "Processing epoch 11\n",
            "Processing epoch 12\n",
            "Processing epoch 13\n",
            "Processing epoch 14\n",
            "Processing epoch 15\n",
            "Processing epoch 16\n",
            "Processing epoch 17\n",
            "Processing epoch 18\n",
            "Processing epoch 19\n",
            "Processing epoch 20\n",
            "Processing epoch 21\n",
            "Processing epoch 22\n",
            "Processing epoch 23\n",
            "Processing epoch 24\n",
            "Processing epoch 0\n",
            "Processing epoch 1\n",
            "Processing epoch 2\n",
            "Processing epoch 3\n",
            "Processing epoch 4\n",
            "Processing epoch 5\n",
            "Processing epoch 6\n",
            "Processing epoch 7\n",
            "Processing epoch 8\n",
            "Processing epoch 9\n",
            "Processing epoch 10\n",
            "Processing epoch 11\n",
            "Processing epoch 12\n",
            "Processing epoch 13\n",
            "Processing epoch 14\n",
            "Processing epoch 15\n",
            "Processing epoch 16\n",
            "Processing epoch 17\n",
            "Processing epoch 18\n",
            "Processing epoch 19\n",
            "Processing epoch 20\n",
            "Processing epoch 21\n",
            "Processing epoch 22\n",
            "Processing epoch 23\n",
            "Processing epoch 24\n",
            "Processing epoch 0\n",
            "Processing epoch 1\n",
            "Processing epoch 2\n",
            "Processing epoch 3\n",
            "Processing epoch 4\n",
            "Processing epoch 5\n",
            "Processing epoch 6\n",
            "Processing epoch 7\n",
            "Processing epoch 8\n",
            "Processing epoch 9\n",
            "Processing epoch 10\n",
            "Processing epoch 11\n",
            "Processing epoch 12\n",
            "Processing epoch 13\n",
            "Processing epoch 14\n",
            "Processing epoch 15\n",
            "Processing epoch 16\n",
            "Processing epoch 17\n",
            "Processing epoch 18\n",
            "Processing epoch 19\n",
            "Processing epoch 20\n",
            "Processing epoch 21\n",
            "Processing epoch 22\n",
            "Processing epoch 23\n",
            "Processing epoch 24\n",
            "Processing epoch 0\n",
            "Processing epoch 1\n",
            "Processing epoch 2\n",
            "Processing epoch 3\n",
            "Processing epoch 4\n",
            "Processing epoch 5\n",
            "Processing epoch 6\n",
            "Processing epoch 7\n",
            "Processing epoch 8\n",
            "Processing epoch 9\n",
            "Processing epoch 10\n",
            "Processing epoch 11\n",
            "Processing epoch 12\n",
            "Processing epoch 13\n",
            "Processing epoch 14\n",
            "Processing epoch 15\n",
            "Processing epoch 16\n",
            "Processing epoch 17\n",
            "Processing epoch 18\n",
            "Processing epoch 19\n",
            "Processing epoch 20\n",
            "Processing epoch 21\n",
            "Processing epoch 22\n",
            "Processing epoch 23\n",
            "Processing epoch 24\n",
            "Evaluating RMSE, MAE of algorithm SVD on 5 split(s).\n",
            "\n",
            "                  Fold 1  Fold 2  Fold 3  Fold 4  Fold 5  Mean    Std     \n",
            "RMSE (testset)    0.8615  0.8578  0.8595  0.8595  0.8637  0.8604  0.0020  \n",
            "MAE (testset)     0.6606  0.6589  0.6602  0.6605  0.6601  0.6601  0.0006  \n",
            "Fit time          5.62    5.59    5.60    5.60    5.60    5.60    0.01    \n",
            "Test time         0.18    0.31    0.14    0.27    0.13    0.20    0.07    \n",
            ">>Train the Model\n"
          ],
          "name": "stdout"
        }
      ]
    },
    {
      "cell_type": "code",
      "metadata": {
        "id": "-7_Z32yePrWh",
        "outputId": "c577a8c2-8aee-4d72-b451-6f0be3a0ee2a",
        "colab": {
          "base_uri": "https://localhost:8080/"
        }
      },
      "source": [
        "cross_validate(algo, data, measures=['RMSE','MAE'],cv=5, verbose=True)\n",
        "print(\">>Train the Model\")"
      ],
      "execution_count": 40,
      "outputs": [
        {
          "output_type": "stream",
          "text": [
            "Processing epoch 0\n",
            "Processing epoch 1\n",
            "Processing epoch 2\n",
            "Processing epoch 3\n",
            "Processing epoch 4\n",
            "Processing epoch 5\n",
            "Processing epoch 6\n",
            "Processing epoch 7\n",
            "Processing epoch 8\n",
            "Processing epoch 9\n",
            "Processing epoch 10\n",
            "Processing epoch 11\n",
            "Processing epoch 12\n",
            "Processing epoch 13\n",
            "Processing epoch 14\n",
            "Processing epoch 15\n",
            "Processing epoch 16\n",
            "Processing epoch 17\n",
            "Processing epoch 18\n",
            "Processing epoch 19\n",
            "Processing epoch 20\n",
            "Processing epoch 21\n",
            "Processing epoch 22\n",
            "Processing epoch 23\n",
            "Processing epoch 24\n",
            "Processing epoch 0\n",
            "Processing epoch 1\n",
            "Processing epoch 2\n",
            "Processing epoch 3\n",
            "Processing epoch 4\n",
            "Processing epoch 5\n",
            "Processing epoch 6\n",
            "Processing epoch 7\n",
            "Processing epoch 8\n",
            "Processing epoch 9\n",
            "Processing epoch 10\n",
            "Processing epoch 11\n",
            "Processing epoch 12\n",
            "Processing epoch 13\n",
            "Processing epoch 14\n",
            "Processing epoch 15\n",
            "Processing epoch 16\n",
            "Processing epoch 17\n",
            "Processing epoch 18\n",
            "Processing epoch 19\n",
            "Processing epoch 20\n",
            "Processing epoch 21\n",
            "Processing epoch 22\n",
            "Processing epoch 23\n",
            "Processing epoch 24\n",
            "Processing epoch 0\n",
            "Processing epoch 1\n",
            "Processing epoch 2\n",
            "Processing epoch 3\n",
            "Processing epoch 4\n",
            "Processing epoch 5\n",
            "Processing epoch 6\n",
            "Processing epoch 7\n",
            "Processing epoch 8\n",
            "Processing epoch 9\n",
            "Processing epoch 10\n",
            "Processing epoch 11\n",
            "Processing epoch 12\n",
            "Processing epoch 13\n",
            "Processing epoch 14\n",
            "Processing epoch 15\n",
            "Processing epoch 16\n",
            "Processing epoch 17\n",
            "Processing epoch 18\n",
            "Processing epoch 19\n",
            "Processing epoch 20\n",
            "Processing epoch 21\n",
            "Processing epoch 22\n",
            "Processing epoch 23\n",
            "Processing epoch 24\n",
            "Processing epoch 0\n",
            "Processing epoch 1\n",
            "Processing epoch 2\n",
            "Processing epoch 3\n",
            "Processing epoch 4\n",
            "Processing epoch 5\n",
            "Processing epoch 6\n",
            "Processing epoch 7\n",
            "Processing epoch 8\n",
            "Processing epoch 9\n",
            "Processing epoch 10\n",
            "Processing epoch 11\n",
            "Processing epoch 12\n",
            "Processing epoch 13\n",
            "Processing epoch 14\n",
            "Processing epoch 15\n",
            "Processing epoch 16\n",
            "Processing epoch 17\n",
            "Processing epoch 18\n",
            "Processing epoch 19\n",
            "Processing epoch 20\n",
            "Processing epoch 21\n",
            "Processing epoch 22\n",
            "Processing epoch 23\n",
            "Processing epoch 24\n",
            "Processing epoch 0\n",
            "Processing epoch 1\n",
            "Processing epoch 2\n",
            "Processing epoch 3\n",
            "Processing epoch 4\n",
            "Processing epoch 5\n",
            "Processing epoch 6\n",
            "Processing epoch 7\n",
            "Processing epoch 8\n",
            "Processing epoch 9\n",
            "Processing epoch 10\n",
            "Processing epoch 11\n",
            "Processing epoch 12\n",
            "Processing epoch 13\n",
            "Processing epoch 14\n",
            "Processing epoch 15\n",
            "Processing epoch 16\n",
            "Processing epoch 17\n",
            "Processing epoch 18\n",
            "Processing epoch 19\n",
            "Processing epoch 20\n",
            "Processing epoch 21\n",
            "Processing epoch 22\n",
            "Processing epoch 23\n",
            "Processing epoch 24\n",
            "Evaluating RMSE, MAE of algorithm SVD on 5 split(s).\n",
            "\n",
            "                  Fold 1  Fold 2  Fold 3  Fold 4  Fold 5  Mean    Std     \n",
            "RMSE (testset)    0.8618  0.8701  0.8541  0.8619  0.8580  0.8612  0.0053  \n",
            "MAE (testset)     0.6581  0.6655  0.6576  0.6599  0.6562  0.6594  0.0032  \n",
            "Fit time          5.53    5.65    5.57    5.63    5.58    5.59    0.04    \n",
            "Test time         0.27    0.13    0.25    0.14    0.27    0.21    0.06    \n",
            ">>Train the Model\n"
          ],
          "name": "stdout"
        }
      ]
    },
    {
      "cell_type": "markdown",
      "metadata": {
        "id": "DU2vbWLv-q_i"
      },
      "source": [
        "**Task 7: Predictions**\n",
        "\n",
        "\n",
        "7.1 Predict ratings for all pairs (user, items) that are NOT in the training set."
      ]
    },
    {
      "cell_type": "code",
      "metadata": {
        "id": "Id2TVKPn-ucE"
      },
      "source": [
        "predictions = algo.test(antiset)"
      ],
      "execution_count": 41,
      "outputs": []
    },
    {
      "cell_type": "code",
      "metadata": {
        "id": "tLj8Cqq6-uf8",
        "outputId": "786fd57e-ff3f-4173-e0e4-d07fe7a56fda",
        "colab": {
          "base_uri": "https://localhost:8080/"
        }
      },
      "source": [
        "predictions[0]"
      ],
      "execution_count": 42,
      "outputs": [
        {
          "output_type": "execute_result",
          "data": {
            "text/plain": [
              "Prediction(uid=1, iid=318, r_ui=3.529119856267723, est=5, details={'was_impossible': False})"
            ]
          },
          "metadata": {
            "tags": []
          },
          "execution_count": 42
        }
      ]
    },
    {
      "cell_type": "markdown",
      "metadata": {
        "id": "dBBSRz2C-uro"
      },
      "source": [
        "**7.2 Recommending top 3 movies movies based on predictions**"
      ]
    },
    {
      "cell_type": "code",
      "metadata": {
        "id": "9uo7UzL9QtYw",
        "outputId": "31618262-4e71-441a-bb29-efec03e684ca",
        "colab": {
          "base_uri": "https://localhost:8080/"
        }
      },
      "source": [
        "from collections import defaultdict\n",
        "def get_top_n(predictions, n):\n",
        "  top_n = defaultdict(list)\n",
        "  for uid, iid, _, est, _ in predictions:\n",
        "    top_n[uid].append((iid,est))\n",
        "\n",
        "  for uid, user_rating in top_n.items():\n",
        "    user_rating.sort(key = lambda x: x[1], reverse=True)\n",
        "    top_n[uid] = user_rating[:n]\n",
        "\n",
        "  return top_n\n",
        "  pass\n",
        "\n",
        "top_n = get_top_n(predictions, n=3)\n",
        "for uid, user_rating in top_n.items():\n",
        "  print(uid, [iid for (iid,rating)in user_rating] )"
      ],
      "execution_count": 45,
      "outputs": [
        {
          "output_type": "stream",
          "text": [
            "1 [318, 48516, 109487]\n",
            "2 [1276, 51255, 1223]\n",
            "3 [2324, 593, 1237]\n",
            "4 [1221, 1247, 5618]\n",
            "5 [7153, 1267, 1208]\n",
            "6 [951, 2160, 68954]\n",
            "7 [912, 527, 1199]\n",
            "8 [1204, 1225, 928]\n",
            "9 [858, 1136, 1193]\n",
            "10 [908, 1952, 106642]\n",
            "11 [922, 1041, 2160]\n",
            "12 [260, 1196, 1197]\n",
            "13 [318, 912, 589]\n",
            "14 [1237, 71899, 5690]\n",
            "15 [1208, 1204, 1387]\n",
            "16 [922, 1258, 3435]\n",
            "17 [951, 1262, 928]\n",
            "18 [1262, 1197, 1225]\n",
            "19 [4973, 296, 1208]\n",
            "20 [475, 91529, 593]\n",
            "21 [318, 1204, 951]\n",
            "22 [923, 2762, 2019]\n",
            "23 [1261, 2160, 1104]\n",
            "24 [5618, 3275, 1196]\n",
            "25 [296, 608, 1089]\n",
            "26 [2959, 3275, 1223]\n",
            "27 [56782, 1237, 5690]\n",
            "28 [1262, 1237, 1252]\n",
            "29 [2329, 2959, 4973]\n",
            "30 [1208, 2329, 48516]\n",
            "31 [56782, 168252, 1204]\n",
            "32 [2959, 858, 2858]\n",
            "33 [1261, 7361, 930]\n",
            "34 [168252, 912, 66934]\n",
            "35 [4993, 858, 750]\n",
            "36 [260, 4973, 1206]\n",
            "37 [3275, 48516, 2324]\n",
            "38 [928, 1276, 306]\n",
            "39 [3451, 1261, 3275]\n",
            "40 [1201, 2959, 56782]\n",
            "41 [318, 1204, 1376]\n",
            "42 [778, 910, 142488]\n",
            "43 [6, 50, 101]\n",
            "44 [858, 306, 951]\n",
            "45 [1237, 2160, 4226]\n",
            "46 [56782, 1262, 933]\n",
            "47 [951, 58559, 720]\n",
            "48 [318, 527, 50]\n",
            "49 [1104, 1197, 1237]\n",
            "50 [260, 1221, 3435]\n",
            "51 [106782, 4027, 56782]\n",
            "52 [1197, 904, 912]\n",
            "53 [6, 47, 50]\n",
            "54 [5690, 3451, 56782]\n",
            "55 [3703, 60684, 778]\n",
            "56 [79132, 1199, 4226]\n",
            "57 [318, 741, 919]\n",
            "58 [904, 1261, 1089]\n",
            "59 [56782, 1104, 5690]\n",
            "60 [1237, 1221, 922]\n",
            "61 [1104, 858, 2329]\n",
            "62 [928, 50, 1208]\n",
            "63 [3836, 904, 1207]\n",
            "64 [923, 750, 1198]\n",
            "65 [858, 3275, 7361]\n",
            "66 [56782, 3451, 1104]\n",
            "67 [4034, 1148, 1261]\n",
            "68 [1248, 1303, 1237]\n",
            "69 [2959, 1261, 1197]\n",
            "70 [1221, 3275, 1104]\n",
            "71 [3578, 318, 3275]\n",
            "72 [3451, 1262, 4993]\n",
            "73 [318, 1198, 2959]\n",
            "74 [912, 318, 1262]\n",
            "75 [1197, 5618, 750]\n",
            "76 [110, 1193, 3083]\n",
            "77 [318, 912, 44555]\n",
            "78 [7361, 4973, 1237]\n",
            "79 [1208, 1266, 1235]\n",
            "80 [928, 3451, 1237]\n",
            "81 [912, 1262, 858]\n",
            "82 [56367, 56782, 4973]\n",
            "83 [1262, 912, 3347]\n",
            "84 [142488, 2571, 930]\n",
            "85 [318, 4973, 1221]\n",
            "86 [750, 912, 5618]\n",
            "87 [2324, 6350, 1148]\n",
            "88 [2959, 260, 3836]\n",
            "89 [60069, 2160, 2318]\n",
            "90 [778, 1089, 1262]\n",
            "91 [1732, 7361, 2324]\n",
            "92 [1262, 1237, 1223]\n",
            "93 [1136, 1196, 1197]\n",
            "94 [260, 1208, 778]\n",
            "95 [318, 4993, 1136]\n",
            "96 [2959, 1208, 1197]\n",
            "97 [527, 2959, 318]\n",
            "98 [1262, 1251, 4973]\n",
            "99 [923, 2571, 58559]\n",
            "100 [1104, 912, 3435]\n",
            "101 [912, 4973, 5618]\n",
            "102 [1208, 951, 1237]\n",
            "103 [899, 77455, 1104]\n",
            "104 [1261, 2318, 1259]\n",
            "105 [1262, 1204, 1237]\n",
            "106 [1198, 3703, 910]\n",
            "107 [56782, 3451, 899]\n",
            "108 [1225, 1208, 1262]\n",
            "109 [2959, 1197, 3451]\n",
            "110 [858, 1206, 912]\n",
            "111 [88810, 1261, 3347]\n",
            "112 [1258, 541, 1206]\n",
            "113 [44195, 4034, 1208]\n",
            "114 [318, 1262, 296]\n",
            "115 [306, 5618, 1261]\n",
            "116 [1237, 3435, 1266]\n",
            "117 [1197, 1208, 2959]\n",
            "118 [318, 1261, 1237]\n",
            "119 [904, 1197, 1104]\n",
            "120 [142488, 3275, 1252]\n",
            "121 [928, 1172, 1104]\n",
            "122 [1258, 2028, 3703]\n",
            "123 [3275, 541, 1197]\n",
            "124 [750, 912, 5618]\n",
            "125 [3275, 5618, 3451]\n",
            "126 [6377, 3147, 142488]\n",
            "127 [912, 1208, 1267]\n",
            "128 [318, 1104, 1221]\n",
            "129 [750, 1284, 1223]\n",
            "130 [922, 1104, 50]\n",
            "131 [1261, 898, 3275]\n",
            "132 [1234, 1197, 1303]\n",
            "133 [56782, 1213, 1089]\n",
            "134 [1104, 3451, 1197]\n",
            "135 [177593, 541, 1223]\n",
            "136 [4011, 56782, 38061]\n",
            "137 [1104, 3435, 44195]\n",
            "138 [1197, 1208, 318]\n",
            "139 [318, 912, 858]\n",
            "140 [177593, 1225, 2329]\n",
            "141 [1237, 1261, 3275]\n",
            "142 [4973, 2959, 318]\n",
            "143 [5690, 3578, 589]\n",
            "144 [858, 1204, 1272]\n",
            "145 [2959, 58559, 527]\n",
            "146 [318, 608, 3435]\n",
            "147 [1237, 7361, 318]\n",
            "148 [1261, 1243, 750]\n",
            "149 [928, 306, 475]\n",
            "150 [1104, 858, 56782]\n",
            "151 [858, 1203, 475]\n",
            "152 [8874, 3275, 928]\n",
            "153 [50, 919, 912]\n",
            "154 [260, 1196, 1197]\n",
            "155 [1732, 1222, 898]\n",
            "156 [3451, 3435, 741]\n",
            "157 [318, 1197, 778]\n",
            "158 [1198, 1284, 4011]\n",
            "159 [1204, 933, 56782]\n",
            "160 [1252, 1732, 318]\n",
            "161 [1221, 260, 1248]\n",
            "162 [1089, 1197, 2959]\n",
            "163 [318, 1197, 1104]\n",
            "164 [1197, 1208, 1276]\n",
            "165 [3451, 318, 7371]\n",
            "166 [3435, 1104, 1204]\n",
            "167 [1201, 48516, 76093]\n",
            "168 [318, 3435, 260]\n",
            "169 [1206, 1258, 1278]\n",
            "170 [1104, 1237, 928]\n",
            "171 [101, 356, 1213]\n",
            "172 [1278, 541, 168252]\n",
            "173 [1237, 1104, 56782]\n",
            "174 [1248, 912, 5618]\n",
            "175 [778, 1245, 1272]\n",
            "176 [1203, 56782, 1235]\n",
            "177 [5992, 4967, 908]\n",
            "178 [1104, 2019, 1225]\n",
            "179 [1262, 71899, 1246]\n",
            "180 [318, 1262, 1246]\n",
            "181 [56782, 1222, 1261]\n",
            "182 [1280, 7121, 1244]\n",
            "183 [318, 1237, 3435]\n",
            "184 [1237, 48516, 318]\n",
            "185 [318, 2959, 296]\n",
            "186 [1104, 1225, 1237]\n",
            "187 [2788, 3114, 1197]\n",
            "188 [608, 4993, 1228]\n",
            "189 [858, 1104, 1203]\n",
            "190 [1261, 1237, 260]\n",
            "191 [1136, 858, 1089]\n",
            "192 [1225, 1237, 1196]\n",
            "193 [1237, 168252, 166528]\n",
            "194 [318, 750, 1262]\n",
            "195 [1086, 2231, 1197]\n",
            "196 [318, 928, 951]\n",
            "197 [122926, 1262, 1237]\n",
            "198 [1203, 1201, 7371]\n",
            "199 [2959, 7153, 168252]\n",
            "200 [1261, 1217, 1237]\n",
            "201 [1089, 1266, 7153]\n",
            "202 [5618, 4973, 1213]\n",
            "203 [56782, 1104, 3275]\n",
            "204 [318, 750, 2997]\n",
            "205 [1266, 3275, 1261]\n",
            "206 [5690, 1104, 1148]\n",
            "207 [1237, 1262, 1136]\n",
            "208 [1198, 898, 1217]\n",
            "209 [923, 1208, 1136]\n",
            "210 [1237, 318, 1262]\n",
            "211 [928, 2329, 7361]\n",
            "212 [7371, 71899, 1203]\n",
            "213 [1237, 1261, 904]\n",
            "214 [318, 1245, 3451]\n",
            "215 [904, 924, 858]\n",
            "216 [1221, 246, 260]\n",
            "217 [3703, 166528, 1261]\n",
            "218 [527, 1028, 318]\n",
            "219 [1208, 110, 1267]\n",
            "220 [1201, 1220, 1225]\n",
            "221 [1261, 1732, 58559]\n",
            "222 [7361, 260, 1884]\n",
            "223 [750, 5618, 3275]\n",
            "224 [3949, 3451, 40819]\n",
            "225 [260, 7361, 858]\n",
            "226 [541, 1213, 1199]\n",
            "227 [8874, 2160, 1104]\n",
            "228 [2959, 1104, 1208]\n",
            "229 [1104, 2959, 858]\n",
            "230 [898, 1237, 3435]\n",
            "231 [750, 912, 3275]\n",
            "232 [922, 4973, 1237]\n",
            "233 [1208, 1221, 5618]\n",
            "234 [2858, 1178, 904]\n",
            "235 [1197, 1089, 1262]\n",
            "236 [260, 1210, 750]\n",
            "237 [1104, 1197, 1252]\n",
            "238 [3275, 5618, 1210]\n",
            "239 [1245, 1104, 1272]\n",
            "240 [1197, 2329, 106782]\n",
            "241 [1261, 1223, 898]\n",
            "242 [1104, 2324, 6016]\n",
            "243 [1732, 2959, 3703]\n",
            "244 [2324, 1261, 4226]\n",
            "245 [1225, 1261, 318]\n",
            "246 [923, 1223, 1198]\n",
            "247 [2160, 1263, 928]\n",
            "248 [1104, 904, 912]\n",
            "249 [1208, 1197, 1104]\n",
            "250 [1206, 2571, 2959]\n",
            "251 [750, 1223, 1261]\n",
            "252 [2160, 1225, 5618]\n",
            "253 [1237, 318, 1104]\n",
            "254 [1197, 1222, 541]\n",
            "255 [318, 1245, 79132]\n",
            "256 [5690, 56782, 1104]\n",
            "257 [1104, 858, 3451]\n",
            "258 [1089, 1245, 2160]\n",
            "259 [318, 110, 1204]\n",
            "260 [3275, 177593, 1193]\n",
            "261 [2959, 4973, 1104]\n",
            "262 [1267, 1237, 55721]\n",
            "263 [904, 1221, 858]\n",
            "264 [318, 858, 1208]\n",
            "265 [5618, 928, 2959]\n",
            "266 [750, 1252, 3996]\n",
            "267 [318, 527, 7371]\n",
            "268 [912, 904, 4886]\n",
            "269 [527, 318, 1198]\n",
            "270 [1199, 2959, 1267]\n",
            "271 [1237, 318, 527]\n",
            "272 [1262, 1237, 1221]\n",
            "273 [1197, 904, 1228]\n",
            "274 [928, 4144, 741]\n",
            "275 [1732, 1104, 1245]\n",
            "276 [50, 110, 457]\n",
            "277 [56782, 1228, 1204]\n",
            "278 [1208, 2160, 2959]\n",
            "279 [4973, 3836, 1251]\n",
            "280 [928, 1276, 951]\n",
            "281 [1261, 3275, 3435]\n",
            "282 [1196, 904, 106100]\n",
            "283 [541, 2324, 5060]\n",
            "284 [260, 497, 1198]\n",
            "285 [4011, 778, 1221]\n",
            "286 [3275, 1199, 5971]\n",
            "287 [296, 589, 541]\n",
            "288 [858, 1203, 1227]\n",
            "289 [1261, 912, 3275]\n",
            "290 [1178, 44195, 1267]\n",
            "291 [1197, 904, 1237]\n",
            "292 [1237, 3435, 6]\n",
            "293 [1225, 3451, 56782]\n",
            "294 [17, 81834, 1104]\n",
            "295 [1210, 930, 3996]\n",
            "296 [4993, 750, 1197]\n",
            "297 [3275, 3451, 1197]\n",
            "298 [2329, 2028, 4967]\n",
            "299 [1262, 475, 3275]\n",
            "300 [1197, 1136, 1262]\n",
            "301 [3451, 928, 3275]\n",
            "302 [318, 750, 1193]\n",
            "303 [541, 2324, 3451]\n",
            "304 [2542, 5618, 1276]\n",
            "305 [912, 1223, 1230]\n",
            "306 [318, 904, 1204]\n",
            "307 [2028, 4973, 27773]\n",
            "308 [2160, 908, 1584]\n",
            "309 [3347, 1267, 923]\n",
            "310 [858, 318, 898]\n",
            "311 [928, 1104, 3451]\n",
            "312 [318, 858, 1136]\n",
            "313 [74458, 142488, 5902]\n",
            "314 [750, 1228, 904]\n",
            "315 [1104, 858, 1261]\n",
            "316 [1242, 904, 3451]\n",
            "317 [1210, 1036, 1198]\n",
            "318 [1237, 1225, 1204]\n",
            "319 [904, 3275, 1252]\n",
            "320 [904, 1225, 1262]\n",
            "321 [750, 2160, 1197]\n",
            "322 [2300, 260, 3435]\n",
            "323 [2160, 1261, 3275]\n",
            "324 [1284, 922, 1237]\n",
            "325 [1261, 1136, 1193]\n",
            "326 [4306, 1272, 1104]\n",
            "327 [924, 1172, 260]\n",
            "328 [3435, 4848, 1204]\n",
            "329 [7371, 1235, 1261]\n",
            "330 [1201, 1247, 55247]\n",
            "331 [541, 1199, 750]\n",
            "332 [3275, 1261, 1197]\n",
            "333 [2324, 177593, 3275]\n",
            "334 [1237, 1204, 1262]\n",
            "335 [5618, 1198, 1172]\n",
            "336 [1262, 928, 1104]\n",
            "337 [1197, 904, 908]\n",
            "338 [3435, 1198, 1089]\n",
            "339 [1225, 1208, 142488]\n",
            "340 [4993, 3275, 1204]\n",
            "341 [4973, 2324, 1196]\n",
            "342 [318, 44555, 3275]\n",
            "343 [1197, 1193, 1204]\n",
            "344 [3836, 3275, 5690]\n",
            "345 [56782, 1197, 5690]\n",
            "346 [1204, 318, 56782]\n",
            "347 [1237, 1225, 1221]\n",
            "348 [919, 1197, 898]\n",
            "349 [3275, 1104, 1041]\n",
            "350 [318, 1208, 5618]\n",
            "351 [56782, 928, 3451]\n",
            "352 [608, 1197, 7361]\n",
            "353 [2571, 923, 1206]\n",
            "354 [1198, 608, 930]\n",
            "355 [318, 1237, 1262]\n",
            "356 [260, 1041, 750]\n",
            "357 [4973, 1284, 6350]\n",
            "358 [5618, 928, 3275]\n",
            "359 [608, 922, 1204]\n",
            "360 [2571, 2959, 3468]\n",
            "361 [1284, 1136, 7361]\n",
            "362 [2160, 142488, 2019]\n",
            "363 [1225, 56782, 928]\n",
            "364 [318, 4011, 1237]\n",
            "365 [142488, 7265, 3328]\n",
            "366 [1198, 56782, 1262]\n",
            "367 [1247, 750, 3328]\n",
            "368 [318, 2959, 1206]\n",
            "369 [1261, 142488, 497]\n",
            "370 [1104, 928, 142488]\n",
            "371 [356, 1136, 1197]\n",
            "372 [3275, 2324, 2959]\n",
            "373 [1201, 1249, 5618]\n",
            "374 [1237, 1221, 898]\n",
            "375 [1136, 1197, 1193]\n",
            "376 [1104, 318, 177593]\n",
            "377 [318, 904, 6711]\n",
            "378 [1261, 1245, 4973]\n",
            "379 [5618, 912, 2160]\n",
            "380 [2329, 1274, 1269]\n",
            "381 [1237, 3275, 56782]\n",
            "382 [1136, 2329, 1197]\n",
            "383 [1272, 1250, 1104]\n",
            "384 [318, 142488, 50]\n",
            "385 [1237, 1617, 6711]\n",
            "386 [1136, 912, 858]\n",
            "387 [1719, 5995, 2028]\n",
            "388 [50, 1234, 260]\n",
            "389 [110, 356, 527]\n",
            "390 [296, 61240, 3275]\n",
            "391 [1227, 7153, 1267]\n",
            "392 [912, 318, 589]\n",
            "393 [1272, 7361, 858]\n",
            "394 [1213, 1242, 5690]\n",
            "395 [1104, 5618, 750]\n",
            "396 [527, 1272, 1210]\n",
            "397 [318, 904, 260]\n",
            "398 [750, 1225, 3949]\n",
            "399 [951, 3275, 56782]\n",
            "400 [3275, 1201, 1208]\n",
            "401 [1104, 904, 3275]\n",
            "402 [1261, 260, 3347]\n",
            "403 [7153, 1272, 1136]\n",
            "404 [1104, 56782, 928]\n",
            "405 [527, 3275, 1251]\n",
            "406 [177593, 318, 71899]\n",
            "407 [1104, 858, 1221]\n",
            "408 [2324, 951, 306]\n",
            "409 [1201, 3275, 1245]\n",
            "410 [44195, 246, 898]\n",
            "411 [1234, 2959, 1225]\n",
            "412 [1198, 1225, 1262]\n",
            "413 [1197, 112852, 1245]\n",
            "414 [115569, 44555, 2324]\n",
            "415 [2160, 1237, 1262]\n",
            "416 [1228, 175, 1203]\n",
            "417 [1252, 1204, 48516]\n",
            "418 [912, 7371, 928]\n",
            "419 [1276, 1272, 3275]\n",
            "420 [912, 1197, 5618]\n",
            "421 [1237, 296, 1245]\n",
            "422 [1237, 1136, 1198]\n",
            "423 [3328, 2959, 1222]\n",
            "424 [56782, 56367, 1104]\n",
            "425 [1104, 1237, 3451]\n",
            "426 [1235, 3328, 3147]\n",
            "427 [318, 2571, 1196]\n",
            "428 [527, 858, 608]\n",
            "429 [904, 7153, 1952]\n",
            "430 [2959, 904, 1394]\n",
            "431 [928, 48516, 1225]\n",
            "432 [1237, 1376, 922]\n",
            "433 [260, 912, 1204]\n",
            "434 [4973, 91529, 79132]\n",
            "435 [2160, 1104, 56782]\n",
            "436 [1237, 2762, 1197]\n",
            "437 [1136, 4993, 142488]\n",
            "438 [1148, 1261, 1223]\n",
            "439 [858, 3275, 58559]\n",
            "440 [318, 1204, 951]\n",
            "441 [1223, 3275, 177593]\n",
            "442 [318, 1221, 541]\n",
            "443 [7371, 1203, 1237]\n",
            "444 [1225, 1262, 1221]\n",
            "445 [3451, 1673, 1278]\n",
            "446 [1270, 318, 1197]\n",
            "447 [1223, 858, 2858]\n",
            "448 [1197, 1203, 110]\n",
            "449 [2571, 296, 7361]\n",
            "450 [858, 1104, 1261]\n",
            "451 [296, 318, 1089]\n",
            "452 [1, 593, 923]\n",
            "453 [1197, 1235, 1258]\n",
            "454 [1242, 1262, 44195]\n",
            "455 [1089, 1223, 1267]\n",
            "456 [2571, 3275, 318]\n",
            "457 [5618, 3275, 3681]\n",
            "458 [904, 56782, 1104]\n",
            "459 [1261, 1197, 1104]\n",
            "460 [3275, 3451, 1197]\n",
            "461 [1104, 3451, 1252]\n",
            "462 [1178, 3435, 2583]\n",
            "463 [318, 1197, 1262]\n",
            "464 [928, 898, 1234]\n",
            "465 [4993, 318, 50]\n",
            "466 [2160, 1237, 56782]\n",
            "467 [778, 858, 1272]\n",
            "468 [750, 904, 7361]\n",
            "469 [2959, 2019, 778]\n",
            "470 [1243, 260, 3552]\n",
            "471 [928, 2160, 58559]\n",
            "472 [1104, 527, 2997]\n",
            "473 [296, 608, 3275]\n",
            "474 [109487, 98809, 59387]\n",
            "475 [1089, 1208, 1213]\n",
            "476 [4993, 1221, 5952]\n",
            "477 [110, 858, 3578]\n",
            "478 [318, 527, 1704]\n",
            "479 [1259, 1197, 1196]\n",
            "480 [928, 1262, 1233]\n",
            "481 [904, 5618, 2067]\n",
            "482 [1197, 4973, 3275]\n",
            "483 [541, 1258, 2300]\n",
            "484 [1278, 1104, 928]\n",
            "485 [56782, 318, 1172]\n",
            "486 [1673, 928, 1172]\n",
            "487 [1206, 1193, 1261]\n",
            "488 [1172, 1210, 3275]\n",
            "489 [527, 858, 1221]\n",
            "490 [527, 5618, 1221]\n",
            "491 [318, 898, 3275]\n",
            "492 [904, 4993, 1261]\n",
            "493 [318, 1178, 1201]\n",
            "494 [296, 7438, 5618]\n",
            "495 [296, 553, 1196]\n",
            "496 [2160, 7361, 260]\n",
            "497 [5618, 1104, 922]\n",
            "498 [1262, 1210, 930]\n",
            "499 [296, 318, 1208]\n",
            "500 [34, 1704, 2160]\n",
            "501 [1198, 2329, 1272]\n",
            "502 [296, 858, 2959]\n",
            "503 [260, 912, 50]\n",
            "504 [4226, 1261, 8874]\n",
            "505 [1196, 800, 3435]\n",
            "506 [7361, 1213, 912]\n",
            "507 [1237, 1104, 58559]\n",
            "508 [527, 1203, 318]\n",
            "509 [3275, 904, 3451]\n",
            "510 [260, 318, 6711]\n",
            "511 [58559, 7361, 1248]\n",
            "512 [2959, 2028, 1258]\n",
            "513 [1237, 2959, 1206]\n",
            "514 [4973, 1148, 1261]\n",
            "515 [110, 923, 1136]\n",
            "516 [318, 1208, 858]\n",
            "517 [175, 1237, 1201]\n",
            "518 [1266, 48516, 3275]\n",
            "519 [1148, 1223, 3328]\n",
            "520 [527, 1208, 1288]\n",
            "521 [1104, 4993, 318]\n",
            "522 [306, 3275, 3836]\n",
            "523 [1089, 1197, 1208]\n",
            "524 [4973, 2571, 1223]\n",
            "525 [3275, 1283, 1261]\n",
            "526 [1136, 898, 1237]\n",
            "527 [1197, 2959, 4306]\n",
            "528 [1089, 1249, 223]\n",
            "529 [318, 1089, 7153]\n",
            "530 [858, 5618, 1198]\n",
            "531 [58559, 904, 2571]\n",
            "532 [904, 5618, 1261]\n",
            "533 [1089, 1208, 318]\n",
            "534 [1223, 1283, 1221]\n",
            "535 [1199, 7361, 858]\n",
            "536 [318, 1197, 1242]\n",
            "537 [750, 7361, 1206]\n",
            "538 [296, 1258, 2959]\n",
            "539 [71899, 1262, 1252]\n",
            "540 [1199, 318, 750]\n",
            "541 [1197, 1041, 223]\n",
            "542 [168252, 3451, 750]\n",
            "543 [6, 296, 590]\n",
            "544 [56782, 1104, 904]\n",
            "545 [318, 1237, 1248]\n",
            "546 [48516, 1197, 110]\n",
            "547 [1198, 858, 7153]\n",
            "548 [2160, 1276, 1204]\n",
            "549 [1104, 922, 1225]\n",
            "550 [904, 3703, 1104]\n",
            "551 [7147, 1673, 898]\n",
            "552 [260, 66934, 50]\n",
            "553 [318, 1262, 912]\n",
            "554 [5618, 38061, 1952]\n",
            "555 [32587, 364, 7143]\n",
            "556 [1198, 2571, 1208]\n",
            "557 [2959, 1204, 1104]\n",
            "558 [541, 1104, 1234]\n",
            "559 [1237, 1204, 933]\n",
            "560 [858, 1104, 3275]\n",
            "561 [858, 5618, 778]\n",
            "562 [1243, 1223, 1262]\n",
            "563 [951, 318, 1267]\n",
            "564 [260, 56782, 2019]\n",
            "565 [1237, 2571, 293]\n",
            "566 [7361, 1237, 912]\n",
            "567 [1172, 923, 1206]\n",
            "568 [318, 1272, 68157]\n",
            "569 [260, 1225, 1172]\n",
            "570 [1089, 541, 3275]\n",
            "571 [1262, 1197, 1237]\n",
            "572 [7438, 930, 7153]\n",
            "573 [1704, 1968, 6016]\n",
            "574 [3836, 858, 1262]\n",
            "575 [260, 7361, 1198]\n",
            "576 [296, 2959, 541]\n",
            "577 [1104, 48516, 7371]\n",
            "578 [2959, 318, 2324]\n",
            "579 [1204, 1208, 44195]\n",
            "580 [2324, 1274, 71899]\n",
            "581 [912, 858, 1221]\n",
            "582 [750, 1204, 1221]\n",
            "583 [7361, 6016, 1203]\n",
            "584 [1197, 1213, 1222]\n",
            "585 [912, 2300, 914]\n",
            "586 [1136, 1208, 1272]\n",
            "587 [56782, 5690, 923]\n",
            "588 [1262, 1261, 3275]\n",
            "589 [2160, 3435, 898]\n",
            "590 [4973, 168252, 1223]\n",
            "591 [1242, 5690, 1262]\n",
            "592 [1197, 904, 1270]\n",
            "593 [1261, 928, 951]\n",
            "594 [356, 1278, 2115]\n",
            "595 [858, 3328, 5618]\n",
            "596 [1203, 2160, 3435]\n",
            "597 [2329, 2571, 1250]\n",
            "598 [912, 750, 904]\n",
            "599 [1262, 3836, 1209]\n",
            "600 [1261, 50, 1234]\n",
            "601 [2160, 1208, 1104]\n",
            "602 [750, 904, 1261]\n",
            "603 [491, 3451, 60069]\n",
            "604 [3451, 1261, 2160]\n",
            "605 [541, 1198, 1213]\n",
            "606 [3275, 1104, 1248]\n",
            "607 [8132, 1104, 1225]\n",
            "608 [1252, 122926, 1104]\n",
            "609 [1104, 2959, 1237]\n",
            "610 [2502, 2329, 2997]\n"
          ],
          "name": "stdout"
        }
      ]
    }
  ]
}